{
 "cells": [
  {
   "cell_type": "code",
   "execution_count": 19,
   "metadata": {},
   "outputs": [],
   "source": [
    "arr1 = [38,27,43,3,9,82,10,14]\n",
    "import copy\n",
    "arrcopy = copy.deepcopy(arr1)"
   ]
  },
  {
   "cell_type": "code",
   "execution_count": 15,
   "metadata": {},
   "outputs": [],
   "source": [
    "def mergesort1(array):\n",
    "    #print(\"splitting\", array)\n",
    "    if len(array) > 1:\n",
    "        middle = len(array)//2\n",
    "        l = array[:middle]\n",
    "        r = array[middle:]\n",
    "        \n",
    "        mergesort1(l)\n",
    "        mergesort1(r)\n",
    "        \n",
    "        i = j = k = 0\n",
    "        \n",
    "        while i < len(l) and j < len(r):\n",
    "            if l[i] < r[j]:\n",
    "                array[k] = l[i]\n",
    "                i = i + 1\n",
    "            else:\n",
    "                array[k] = r[j]\n",
    "                j = j + 1\n",
    "            k = k + 1\n",
    "        \n",
    "        while i < len(l):\n",
    "            array[k] = l[i]\n",
    "            i = i + 1\n",
    "            k = k + 1\n",
    "        \n",
    "        while j < len(r):\n",
    "            array[k] = r[j]\n",
    "            j = j + 1\n",
    "            k = k + 1\n",
    "            \n",
    "    #print(\"merging\",array)\n",
    "    return array"
   ]
  },
  {
   "cell_type": "code",
   "execution_count": null,
   "metadata": {},
   "outputs": [],
   "source": [
    "def mergesort2(array):\n",
    "    #print(\"splitting\", array)\n",
    "    if len(array) > 1:\n",
    "        middle = len(array)//2\n",
    "        l = array[:middle]\n",
    "        r = array[middle:]\n",
    "        \n",
    "        mergesort2(l)\n",
    "        mergesort2(r)\n",
    "        \n",
    "        i = j = k = 0\n",
    "        \n",
    "        while len(l) > 0 and len(r) > 0:\n",
    "            if l[0] < r[0]:\n",
    "                array[k] = l.pop(0)\n",
    "            else:\n",
    "                array[k] = r.pop(0)\n",
    "            k = k + 1\n",
    "        \n",
    "        while len(l) > 0:\n",
    "            array[k] = l.pop(0)\n",
    "            k = k + 1\n",
    "        \n",
    "        while len(r) > 0:\n",
    "            array[k] = r.pop(0)\n",
    "            k = k + 1\n",
    "            \n",
    "    #print(\"merging\",array)\n",
    "    return array"
   ]
  },
  {
   "cell_type": "code",
   "execution_count": 18,
   "metadata": {
    "scrolled": true
   },
   "outputs": [
    {
     "name": "stdout",
     "output_type": "stream",
     "text": [
      "[38, 27, 43, 3, 9, 82, 10, 14]\n",
      "[38, 27, 43, 3, 9, 82, 10, 14]\n",
      "[3, 9, 10, 14, 27, 38, 43, 82]\n"
     ]
    }
   ],
   "source": [
    "print(arr1)\n",
    "s1 = mergesort1(arrcopy)\n",
    "print(arr1)\n",
    "print(s1)"
   ]
  },
  {
   "cell_type": "code",
   "execution_count": null,
   "metadata": {},
   "outputs": [],
   "source": [
    "print(\"input array before mergesort: \", arr1)\n",
    "s2 = mergesort2(arr1)\n",
    "print(\"input array after mergesort: \", arr1)\n",
    "print(\"returned array from mergesort: \", s2)"
   ]
  },
  {
   "cell_type": "code",
   "execution_count": null,
   "metadata": {},
   "outputs": [],
   "source": []
  },
  {
   "cell_type": "code",
   "execution_count": null,
   "metadata": {},
   "outputs": [],
   "source": []
  },
  {
   "cell_type": "code",
   "execution_count": 43,
   "metadata": {},
   "outputs": [],
   "source": [
    "#bubble sort now\n",
    "#arr1 = [38,27,43,3,9,82,10,14]\n",
    "def bubble(array):\n",
    "    print(array)\n",
    "    final = []\n",
    "    while len(array) > 0:\n",
    "        \n",
    "        if len(array) == 1:\n",
    "            final.insert(0, array.pop(-1))\n",
    "        else:\n",
    "            \n",
    "            for i in range(1,len(array)):\n",
    "                a, b = array[i - 1], array[i]\n",
    "                #print(a, b)\n",
    "                if a > b:\n",
    "                    array[i - 1], array[i] = b, a\n",
    "            print(array)\n",
    "            final.insert(0, array.pop(-1))\n",
    "    return final"
   ]
  },
  {
   "cell_type": "code",
   "execution_count": 44,
   "metadata": {},
   "outputs": [
    {
     "name": "stdout",
     "output_type": "stream",
     "text": [
      "[38, 27, 43, 3, 9, 82, 10, 14]\n",
      "[27, 38, 3, 9, 43, 10, 14, 82]\n",
      "[27, 3, 9, 38, 10, 14, 43]\n",
      "[3, 9, 27, 10, 14, 38]\n",
      "[3, 9, 10, 14, 27]\n",
      "[3, 9, 10, 14]\n",
      "[3, 9, 10]\n",
      "[3, 9]\n"
     ]
    },
    {
     "data": {
      "text/plain": [
       "[3, 9, 10, 14, 27, 38, 43, 82]"
      ]
     },
     "execution_count": 44,
     "metadata": {},
     "output_type": "execute_result"
    }
   ],
   "source": [
    "arr1 = [38,27,43,3,9,82,10,14]\n",
    "import copy\n",
    "arrcopy = copy.deepcopy(arr1)\n",
    "bubbled = bubble(arrcopy)\n",
    "bubbled"
   ]
  },
  {
   "cell_type": "code",
   "execution_count": null,
   "metadata": {},
   "outputs": [],
   "source": []
  }
 ],
 "metadata": {
  "kernelspec": {
   "display_name": "Python 3",
   "language": "python",
   "name": "python3"
  },
  "language_info": {
   "codemirror_mode": {
    "name": "ipython",
    "version": 3
   },
   "file_extension": ".py",
   "mimetype": "text/x-python",
   "name": "python",
   "nbconvert_exporter": "python",
   "pygments_lexer": "ipython3",
   "version": "3.8.5"
  }
 },
 "nbformat": 4,
 "nbformat_minor": 4
}
