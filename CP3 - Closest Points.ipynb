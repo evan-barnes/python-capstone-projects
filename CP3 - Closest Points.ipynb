{
 "cells": [
  {
   "cell_type": "code",
   "execution_count": 6,
   "metadata": {},
   "outputs": [],
   "source": [
    "import numpy as np\n",
    "from matplotlib import pyplot as plt\n",
    "import math"
   ]
  },
  {
   "cell_type": "code",
   "execution_count": 5,
   "metadata": {},
   "outputs": [
    {
     "data": {
      "image/png": "[encoded data removed]",
      "text/plain": [
       "<Figure size 432x288 with 1 Axes>"
      ]
     },
     "metadata": {
      "needs_background": "light"
     },
     "output_type": "display_data"
    }
   ],
   "source": [
    "test_points = [(1,1), (1,3), (3,1), (5,7), (8,4), (6,2), (3,9), (4,5), (5,3)]\n",
    "for x, y in test_points:\n",
    "    plt.plot(x,y,'bo')"
   ]
  },
  {
   "cell_type": "code",
   "execution_count": 19,
   "metadata": {},
   "outputs": [],
   "source": [
    "def distance(p1, p2):\n",
    "    x1, y1 = p1\n",
    "    x2, y2 = p2\n",
    "    return math.sqrt((x2 - x1)**2 + (y2 - y1)**2)"
   ]
  },
  {
   "cell_type": "code",
   "execution_count": 22,
   "metadata": {},
   "outputs": [
    {
     "data": {
      "text/plain": [
       "2.0"
      ]
     },
     "execution_count": 22,
     "metadata": {},
     "output_type": "execute_result"
    }
   ],
   "source": [
    "distance((1,1), (1,3))"
   ]
  },
  {
   "cell_type": "code",
   "execution_count": 33,
   "metadata": {},
   "outputs": [
    {
     "name": "stdout",
     "output_type": "stream",
     "text": [
      "(1, 1)\n",
      "\t(1, 3)\n",
      "\t\tDistance: 2.0000\n",
      "\t(3, 1)\n",
      "\t\tDistance: 2.0000\n",
      "\t(5, 7)\n",
      "\t\tDistance: 7.2111\n",
      "\t(8, 4)\n",
      "\t\tDistance: 7.6158\n",
      "\t(6, 2)\n",
      "\t\tDistance: 5.0990\n",
      "\t(3, 9)\n",
      "\t\tDistance: 8.2462\n",
      "\t(4, 5)\n",
      "\t\tDistance: 5.0000\n",
      "\t(5, 3)\n",
      "\t\tDistance: 4.4721\n",
      "(1, 3)\n",
      "\t(3, 1)\n",
      "\t\tDistance: 2.8284\n",
      "\t(5, 7)\n",
      "\t\tDistance: 5.6569\n",
      "\t(8, 4)\n",
      "\t\tDistance: 7.0711\n",
      "\t(6, 2)\n",
      "\t\tDistance: 5.0990\n",
      "\t(3, 9)\n",
      "\t\tDistance: 6.3246\n",
      "\t(4, 5)\n",
      "\t\tDistance: 3.6056\n",
      "\t(5, 3)\n",
      "\t\tDistance: 4.0000\n",
      "(3, 1)\n",
      "\t(5, 7)\n",
      "\t\tDistance: 6.3246\n",
      "\t(8, 4)\n",
      "\t\tDistance: 5.8310\n",
      "\t(6, 2)\n",
      "\t\tDistance: 3.1623\n",
      "\t(3, 9)\n",
      "\t\tDistance: 8.0000\n",
      "\t(4, 5)\n",
      "\t\tDistance: 4.1231\n",
      "\t(5, 3)\n",
      "\t\tDistance: 2.8284\n",
      "(5, 7)\n",
      "\t(8, 4)\n",
      "\t\tDistance: 4.2426\n",
      "\t(6, 2)\n",
      "\t\tDistance: 5.0990\n",
      "\t(3, 9)\n",
      "\t\tDistance: 2.8284\n",
      "\t(4, 5)\n",
      "\t\tDistance: 2.2361\n",
      "\t(5, 3)\n",
      "\t\tDistance: 4.0000\n",
      "(8, 4)\n",
      "\t(6, 2)\n",
      "\t\tDistance: 2.8284\n",
      "\t(3, 9)\n",
      "\t\tDistance: 7.0711\n",
      "\t(4, 5)\n",
      "\t\tDistance: 4.1231\n",
      "\t(5, 3)\n",
      "\t\tDistance: 3.1623\n",
      "(6, 2)\n",
      "\t(3, 9)\n",
      "\t\tDistance: 7.6158\n",
      "\t(4, 5)\n",
      "\t\tDistance: 3.6056\n",
      "\t(5, 3)\n",
      "\t\tDistance: 1.4142\n",
      "(3, 9)\n",
      "\t(4, 5)\n",
      "\t\tDistance: 4.1231\n",
      "\t(5, 3)\n",
      "\t\tDistance: 6.3246\n",
      "(4, 5)\n",
      "\t(5, 3)\n",
      "\t\tDistance: 2.2361\n"
     ]
    }
   ],
   "source": [
    "distances = []\n",
    "for a in range(len(test_points) - 1):\n",
    "    print(test_points[a])\n",
    "    for b in range(a + 1, len(test_points)):\n",
    "        print(f'\\t{test_points[b]}')\n",
    "        dist = distance(test_points[a],test_points[b])\n",
    "        print(f'\\t\\tDistance: {dist:.4f}')\n",
    "        distances.append((test_points[a], test_points[b], dist))"
   ]
  },
  {
   "cell_type": "code",
   "execution_count": 34,
   "metadata": {},
   "outputs": [
    {
     "data": {
      "text/plain": [
       "((6, 2), (5, 3), 1.4142135623730951)"
      ]
     },
     "execution_count": 34,
     "metadata": {},
     "output_type": "execute_result"
    }
   ],
   "source": [
    "ds = [d[2] for d in distances]\n",
    "min(ds)\n",
    "ds.index(min(ds))\n",
    "distances[32]"
   ]
  },
  {
   "cell_type": "code",
   "execution_count": 35,
   "metadata": {},
   "outputs": [
    {
     "data": {
      "text/plain": [
       "[((1, 1), (1, 3), 2.0),\n",
       " ((1, 1), (3, 1), 2.0),\n",
       " ((1, 1), (5, 7), 7.211102550927978),\n",
       " ((1, 1), (8, 4), 7.615773105863909),\n",
       " ((1, 1), (6, 2), 5.0990195135927845),\n",
       " ((1, 1), (3, 9), 8.246211251235321),\n",
       " ((1, 1), (4, 5), 5.0),\n",
       " ((1, 1), (5, 3), 4.47213595499958),\n",
       " ((1, 3), (3, 1), 2.8284271247461903),\n",
       " ((1, 3), (5, 7), 5.656854249492381),\n",
       " ((1, 3), (8, 4), 7.0710678118654755),\n",
       " ((1, 3), (6, 2), 5.0990195135927845),\n",
       " ((1, 3), (3, 9), 6.324555320336759),\n",
       " ((1, 3), (4, 5), 3.605551275463989),\n",
       " ((1, 3), (5, 3), 4.0),\n",
       " ((3, 1), (5, 7), 6.324555320336759),\n",
       " ((3, 1), (8, 4), 5.830951894845301),\n",
       " ((3, 1), (6, 2), 3.1622776601683795),\n",
       " ((3, 1), (3, 9), 8.0),\n",
       " ((3, 1), (4, 5), 4.123105625617661),\n",
       " ((3, 1), (5, 3), 2.8284271247461903),\n",
       " ((5, 7), (8, 4), 4.242640687119285),\n",
       " ((5, 7), (6, 2), 5.0990195135927845),\n",
       " ((5, 7), (3, 9), 2.8284271247461903),\n",
       " ((5, 7), (4, 5), 2.23606797749979),\n",
       " ((5, 7), (5, 3), 4.0),\n",
       " ((8, 4), (6, 2), 2.8284271247461903),\n",
       " ((8, 4), (3, 9), 7.0710678118654755),\n",
       " ((8, 4), (4, 5), 4.123105625617661),\n",
       " ((8, 4), (5, 3), 3.1622776601683795),\n",
       " ((6, 2), (3, 9), 7.615773105863909),\n",
       " ((6, 2), (4, 5), 3.605551275463989),\n",
       " ((6, 2), (5, 3), 1.4142135623730951),\n",
       " ((3, 9), (4, 5), 4.123105625617661),\n",
       " ((3, 9), (5, 3), 6.324555320336759),\n",
       " ((4, 5), (5, 3), 2.23606797749979)]"
      ]
     },
     "execution_count": 35,
     "metadata": {},
     "output_type": "execute_result"
    }
   ],
   "source": [
    "distances"
   ]
  },
  {
   "cell_type": "code",
   "execution_count": null,
   "metadata": {},
   "outputs": [],
   "source": []
  },
  {
   "cell_type": "code",
   "execution_count": null,
   "metadata": {},
   "outputs": [],
   "source": []
  },
  {
   "cell_type": "code",
   "execution_count": null,
   "metadata": {},
   "outputs": [],
   "source": []
  },
  {
   "cell_type": "code",
   "execution_count": null,
   "metadata": {},
   "outputs": [],
   "source": []
  },
  {
   "cell_type": "code",
   "execution_count": 20,
   "metadata": {},
   "outputs": [
    {
     "data": {
      "text/plain": [
       "1.4142135623730951"
      ]
     },
     "execution_count": 20,
     "metadata": {},
     "output_type": "execute_result"
    }
   ],
   "source": [
    "(x1,y1), (x2,y2) = (6,2), (5,3)\n",
    "distance2 = lambda x1, y1, x2, y2: math.sqrt((x2 - x1)**2 + (y2 - y1)**2)\n",
    "distance2(6,2,5,3)"
   ]
  }
 ],
 "metadata": {
  "kernelspec": {
   "display_name": "Python 3",
   "language": "python",
   "name": "python3"
  },
  "language_info": {
   "codemirror_mode": {
    "name": "ipython",
    "version": 3
   },
   "file_extension": ".py",
   "mimetype": "text/x-python",
   "name": "python",
   "nbconvert_exporter": "python",
   "pygments_lexer": "ipython3",
   "version": "3.8.5"
  }
 },
 "nbformat": 4,
 "nbformat_minor": 4
}
