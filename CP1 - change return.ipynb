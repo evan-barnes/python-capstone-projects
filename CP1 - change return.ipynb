{
 "cells": [
  {
   "cell_type": "code",
   "execution_count": 157,
   "metadata": {},
   "outputs": [
    {
     "name": "stdout",
     "output_type": "stream",
     "text": [
      "Cost: 115.84\n",
      "Paid: 120\n",
      "Change: $4.16\n",
      "\n",
      "You need to give the following bills:\n",
      "4 Ones\n",
      "\n",
      "You need to give the following coins:\n",
      "1 Dime\n",
      "1 Nickel\n",
      "1 Penny\n"
     ]
    }
   ],
   "source": [
    "import re\n",
    "pattern = r'\\d{0,}\\.\\d{2}|\\d+'  #regex for dollars.cents string eg 1.12 or .37, or whole number (ie 20 becomes $20)\n",
    "cost, paid = '', ''\n",
    "\n",
    "bills = [20,10,5,1] #list of the values of bills\n",
    "coins = [25, 10, 5, 1] #list of the values of coins\n",
    "bill_names = {'singular':{1:'One',5:'Five',10:'Ten',20:'Twenty'}, 'plural':{1:'Ones',5:'Fives',10:'Tens',20:'Twenties'}}\n",
    "coin_names = {'singular':{1:'Penny',5:'Nickel',10:'Dime',25:'Quarter'}, 'plural':{1:'Pennies',5:'Nickel',10:'Dimes',25:'Quarters'}}\n",
    "\n",
    "#get the cost of the item and the amount paid for it, convert those to integer values\n",
    "\n",
    "formatted=False\n",
    "while not formatted:\n",
    "    cost = input('Cost: ')\n",
    "    formatted = re.search(pattern, cost)\n",
    "    if isinstance(formatted, re.Match):\n",
    "        cost = formatted.group(0)\n",
    "    else:\n",
    "        formatted = False\n",
    "\n",
    "cost = float(cost)\n",
    "\n",
    "formatted=False\n",
    "while not formatted:\n",
    "    paid = input('Paid: ')\n",
    "    formatted = re.search(pattern, paid)\n",
    "    if isinstance(formatted, re.Match):\n",
    "        paid = formatted.group(0)\n",
    "    else:\n",
    "        formatted = False\n",
    "\n",
    "paid = float(paid)\n",
    "change = round(paid - cost, 2)\n",
    "\n",
    "print(f'Change: ${change}\\n')\n",
    "\n",
    "change_d, change_c = int(change), int(100*(change - int(change)))\n",
    "\n",
    "#print(f'You need to give ${change_d} in bills, and {change_c} cents in coins.')\n",
    "\n",
    "\n",
    "#break down the change into bills and coins\n",
    "return_bills = {1:0,5:0,10:0,20:0} #dict shows how many of each bill needed to make change\n",
    "d = change_d\n",
    "for bill in bills:\n",
    "    return_bills[bill] = d // bill\n",
    "    d -= bill * return_bills[bill]\n",
    "\n",
    "return_coins = {1:0,5:0,10:0,25:0} #dict shows how many of each coin needed to make change\n",
    "c = change_c\n",
    "for coin in coins:\n",
    "    return_coins[coin] = c // coin\n",
    "    c -= coin * return_coins[coin]\n",
    "    \n",
    "#print out the number of each bill and coin that has to be returned.    \n",
    "    \n",
    "if sum(return_bills.values()) > 0:\n",
    "    print('You need to give the following bills:')\n",
    "    for bill in bills:\n",
    "        if return_bills[bill] > 1:\n",
    "            print(f'{return_bills[bill]} {bill_names[\"plural\"][bill]}')\n",
    "        elif return_bills[bill] == 1:\n",
    "            print(f'{return_bills[bill]} {bill_names[\"singular\"][bill]}')\n",
    "print()\n",
    "if sum(return_coins.values()) > 0:\n",
    "    print('You need to give the following coins:')\n",
    "    for coin in coins:\n",
    "        if return_coins[coin] > 1:\n",
    "            print(f'{return_coins[coin]} {coin_names[\"plural\"][coin]}')\n",
    "        elif return_coins[coin] == 1:\n",
    "            print(f'{return_coins[coin]} {coin_names[\"singular\"][coin]}')"
   ]
  },
  {
   "cell_type": "code",
   "execution_count": null,
   "metadata": {},
   "outputs": [],
   "source": []
  }
 ],
 "metadata": {
  "kernelspec": {
   "display_name": "Python 3",
   "language": "python",
   "name": "python3"
  },
  "language_info": {
   "codemirror_mode": {
    "name": "ipython",
    "version": 3
   },
   "file_extension": ".py",
   "mimetype": "text/x-python",
   "name": "python",
   "nbconvert_exporter": "python",
   "pygments_lexer": "ipython3",
   "version": "3.8.5"
  }
 },
 "nbformat": 4,
 "nbformat_minor": 4
}
